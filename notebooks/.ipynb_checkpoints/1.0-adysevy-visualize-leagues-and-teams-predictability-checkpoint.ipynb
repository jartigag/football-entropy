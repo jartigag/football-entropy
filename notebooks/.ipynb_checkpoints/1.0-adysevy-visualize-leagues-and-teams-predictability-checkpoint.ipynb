{
 "cells": [
  {
   "cell_type": "code",
   "execution_count": 1,
   "metadata": {},
   "outputs": [
    {
     "ename": "ModuleNotFoundError",
     "evalue": "No module named 'seaborn'",
     "output_type": "error",
     "traceback": [
      "\u001b[0;31m---------------------------------------------------------------------------\u001b[0m",
      "\u001b[0;31mModuleNotFoundError\u001b[0m                       Traceback (most recent call last)",
      "\u001b[0;32m<ipython-input-1-f02cb71ddf3a>\u001b[0m in \u001b[0;36m<module>\u001b[0;34m\u001b[0m\n\u001b[1;32m      3\u001b[0m \u001b[0;32mimport\u001b[0m \u001b[0mnumpy\u001b[0m \u001b[0;32mas\u001b[0m \u001b[0mnp\u001b[0m\u001b[0;34m\u001b[0m\u001b[0;34m\u001b[0m\u001b[0m\n\u001b[1;32m      4\u001b[0m \u001b[0;32mimport\u001b[0m \u001b[0mmatplotlib\u001b[0m\u001b[0;34m.\u001b[0m\u001b[0mpyplot\u001b[0m \u001b[0;32mas\u001b[0m \u001b[0mplt\u001b[0m\u001b[0;34m\u001b[0m\u001b[0;34m\u001b[0m\u001b[0m\n\u001b[0;32m----> 5\u001b[0;31m \u001b[0;32mimport\u001b[0m \u001b[0mseaborn\u001b[0m \u001b[0;32mas\u001b[0m \u001b[0msns\u001b[0m\u001b[0;34m\u001b[0m\u001b[0;34m\u001b[0m\u001b[0m\n\u001b[0m\u001b[1;32m      6\u001b[0m \u001b[0;32mimport\u001b[0m \u001b[0mpandas\u001b[0m \u001b[0;32mas\u001b[0m \u001b[0mpd\u001b[0m\u001b[0;34m\u001b[0m\u001b[0;34m\u001b[0m\u001b[0m\n\u001b[1;32m      7\u001b[0m \u001b[0;32mimport\u001b[0m \u001b[0msqlite3\u001b[0m\u001b[0;34m\u001b[0m\u001b[0;34m\u001b[0m\u001b[0m\n",
      "\u001b[0;31mModuleNotFoundError\u001b[0m: No module named 'seaborn'"
     ]
    }
   ],
   "source": [
    "%matplotlib inline\n",
    "\n",
    "import numpy as np\n",
    "import matplotlib.pyplot as plt\n",
    "import seaborn as sns\n",
    "import pandas as pd\n",
    "import sqlite3\n",
    "import numpy as np\n",
    "from numpy import random\n",
    "\n",
    "#load data\n",
    "with sqlite3.connect(\"database.sqlite\") as con:\n",
    "    countries = pd.read_sql_query(\"SELECT * from Country\", con)\n",
    "    matches = pd.read_sql_query(\"SELECT * from Match\", con)\n",
    "    leagues = pd.read_sql_query(\"SELECT * from League\", con)\n",
    "    teams = pd.read_sql_query(\"SELECT * from Team\", con)"
   ]
  },
  {
   "cell_type": "code",
   "execution_count": null,
   "metadata": {},
   "outputs": [],
   "source": [
    "#select relevant countries and merge with leagues\n",
    "selected_countries = ['England','France','Germany','Italy','Spain']\n",
    "countries = countries[countries.name.isin(selected_countries)]\n",
    "leagues = countries.merge(leagues,on='id',suffixes=('', '_y'))"
   ]
  },
  {
   "cell_type": "code",
   "execution_count": null,
   "metadata": {},
   "outputs": [],
   "source": [
    "#select relevant fields\n",
    "matches = matches[matches.league_id.isin(leagues.id)]\n",
    "matches = matches[['id', 'country_id' ,'league_id', 'season', 'stage', 'date','match_api_id', 'home_team_api_id', 'away_team_api_id','B365H', 'B365D' ,'B365A']]\n",
    "matches.dropna(inplace=True)\n",
    "matches.head()"
   ]
  },
  {
   "cell_type": "code",
   "execution_count": null,
   "metadata": {},
   "outputs": [],
   "source": [
    "from scipy.stats import entropy\n",
    "\n",
    "def match_entropy(row):\n",
    "    odds = [row['B365H'],row['B365D'],row['B365A']]\n",
    "    #change odds to probability\n",
    "    probs = [1/o for o in odds]\n",
    "    #normalize to sum to 1\n",
    "    norm = sum(probs)\n",
    "    probs = [p/norm for p in probs]\n",
    "    return entropy(probs)\n",
    "\n",
    "#compute match entropy\n",
    "matches['entropy'] = matches.apply(match_entropy,axis=1)"
   ]
  },
  {
   "cell_type": "code",
   "execution_count": null,
   "metadata": {},
   "outputs": [],
   "source": [
    "#compute mean entropy for every league in every season\n",
    "entropy_means = matches.groupby(('season','league_id')).entropy.mean()\n",
    "entropy_means = entropy_means.reset_index().pivot(index='season', columns='league_id', values='entropy')\n",
    "entropy_means.columns = [leagues[leagues.id==x].name.values[0] for x in entropy_means.columns]\n",
    "entropy_means.head(10)"
   ]
  },
  {
   "cell_type": "code",
   "execution_count": null,
   "metadata": {},
   "outputs": [],
   "source": [
    "#plot graph\n",
    "ax = entropy_means.plot(figsize=(12,8),marker='o')\n",
    "\n",
    "#set title\n",
    "plt.title('Leagues Predictability', fontsize=16)\n",
    "\n",
    "#set ticks roatation\n",
    "plt.xticks(rotation=50)\n",
    "\n",
    "#keep colors for next graph\n",
    "colors = [x.get_color() for x in ax.get_lines()]\n",
    "colors_mapping = dict(zip(leagues.id,colors))\n",
    "\n",
    "#remove x label\n",
    "ax.set_xlabel('')\n",
    "\n",
    "#locate legend \n",
    "plt.legend(loc='lower left')\n",
    "\n",
    "#add arrows\n",
    "ax.annotate('', xytext=(7.2, 1),xy=(7.2, 1.039),\n",
    "            arrowprops=dict(facecolor='black',arrowstyle=\"->, head_length=.7, head_width=.3\",linewidth=1), annotation_clip=False)\n",
    "\n",
    "ax.annotate('', xytext=(7.2, 0.96),xy=(7.2, 0.921),\n",
    "            arrowprops=dict(facecolor='black',arrowstyle=\"->, head_length=.7, head_width=.3\",linewidth=1), annotation_clip=False)\n",
    "\n",
    "ax.annotate('less predictable', xy=(7.3, 1.028), annotation_clip=False,fontsize=14,rotation='vertical')\n",
    "ax.annotate('more predictable', xy=(7.3, 0.952), annotation_clip=False,fontsize=14,rotation='vertical')\n",
    "\n",
    "plt.savefig('figures/leagues_pred.png', bbox_inches='tight',dpi=600)"
   ]
  },
  {
   "cell_type": "code",
   "execution_count": null,
   "metadata": {},
   "outputs": [],
   "source": [
    "from matplotlib.lines import Line2D\n",
    "\n",
    "\n",
    "barcelona = teams[teams.team_long_name=='Barcelona'].team_api_id.values[0]\n",
    "offsets = [-0.16,-0.08,0,0.08,0.16]\n",
    "offsets_mapping = dict(zip(colors_mapping.keys(),offsets))\n",
    "y = []\n",
    "x = []\n",
    "c = []\n",
    "\n",
    "i = -1\n",
    "for season,season_df in matches.groupby('season'):\n",
    "    i+=1\n",
    "    for team,name in zip(teams.team_api_id,teams.team_long_name):\n",
    "        team_df = season_df[(season_df.home_team_api_id==team)|(season_df.away_team_api_id==team)]\n",
    "        team_entropy = team_df.entropy.mean()\n",
    "        if team_entropy>0:\n",
    "            league_id = team_df.league_id.values[0]\n",
    "            x.append(i+offsets_mapping[league_id])\n",
    "            y.append(team_entropy)\n",
    "            c.append(colors_mapping[league_id])\n",
    "\n",
    "plt.figure(figsize=(16,8))\n",
    "plt.scatter(x,y,color=c,s=[60]*len(x))\n",
    "plt.title('Teams Predictability', fontsize=16)\n",
    "\n",
    "#create ticks and labels\n",
    "ax = plt.gca()\n",
    "plt.xlim((-0.5,7.5))\n",
    "plt.xticks(np.arange(0,8,1),rotation=50)\n",
    "\n",
    "#create grid\n",
    "ax.set_xticklabels(entropy_means.index,fontsize=12)\n",
    "for i in range(7):\n",
    "    ax.axvline(x=0.5+i,ls='--',c='w')\n",
    "ax.yaxis.grid(False)\n",
    "ax.xaxis.grid(False)\n",
    "\n",
    "#create legend\n",
    "circles = []\n",
    "labels = []\n",
    "for league_id,name in zip(leagues.id,leagues.name):\n",
    "    labels.append(name)\n",
    "    circles.append(Line2D([0], [0], linestyle=\"none\", marker=\"o\", markersize=8, markerfacecolor=colors_mapping[league_id]))\n",
    "plt.legend(circles, labels, numpoints=3, loc=(0.005,0.02))\n",
    "\n",
    "#add arrows\n",
    "ax.annotate('', xytext=(7.65, 0.93),xy=(7.65, 1.1),\n",
    "            arrowprops=dict(facecolor='black',arrowstyle=\"->, head_length=.7, head_width=.3\",linewidth=1), annotation_clip=False)\n",
    "\n",
    "ax.annotate('', xytext=(7.65, 0.77),xy=(7.65, 0.6),\n",
    "            arrowprops=dict(facecolor='black',arrowstyle=\"->, head_length=.7, head_width=.3\",linewidth=1), annotation_clip=False)\n",
    "\n",
    "ax.annotate('less predictable', xy=(7.75, 1.05), annotation_clip=False,fontsize=14,rotation='vertical')\n",
    "ax.annotate('more predictable', xy=(7.75, 0.73), annotation_clip=False,fontsize=14,rotation='vertical')\n",
    "\n",
    "#add labels\n",
    "ax.annotate('Barcelona', xy=(6.55, 0.634),fontsize=9)\n",
    "ax.annotate('B. Munich', xy=(6.5, 0.655),fontsize=9)\n",
    "ax.annotate('Real Madrid', xy=(6.51, 0.731),fontsize=9)\n",
    "ax.annotate('PSG', xy=(6.93, 0.78),fontsize=9)\n",
    "\n",
    "plt.savefig('figures/teams_pred.png', bbox_inches='tight',dpi=600)\n",
    "\n",
    "\n",
    "\n",
    "\n",
    "\n"
   ]
  },
  {
   "cell_type": "code",
   "execution_count": null,
   "metadata": {},
   "outputs": [],
   "source": []
  }
 ],
 "metadata": {
  "kernelspec": {
   "display_name": "Python 3",
   "language": "python",
   "name": "python3"
  },
  "language_info": {
   "codemirror_mode": {
    "name": "ipython",
    "version": 3
   },
   "file_extension": ".py",
   "mimetype": "text/x-python",
   "name": "python",
   "nbconvert_exporter": "python",
   "pygments_lexer": "ipython3",
   "version": "3.7.3"
  }
 },
 "nbformat": 4,
 "nbformat_minor": 1
}
